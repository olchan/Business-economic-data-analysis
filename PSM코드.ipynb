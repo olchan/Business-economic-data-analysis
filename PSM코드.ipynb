{
  "nbformat": 4,
  "nbformat_minor": 0,
  "metadata": {
    "colab": {
      "provenance": []
    },
    "kernelspec": {
      "name": "python3",
      "display_name": "Python 3"
    },
    "language_info": {
      "name": "python"
    }
  },
  "cells": [
    {
      "cell_type": "code",
      "execution_count": null,
      "metadata": {
        "id": "obUhxypCDtcZ"
      },
      "outputs": [],
      "source": [
        "import pandas as pd\n",
        "import numpy as np\n",
        "from sklearn.linear_model import LogisticRegression\n",
        "from sklearn.preprocessing import StandardScaler\n",
        "\n",
        "# 1. 데이터 불러오기\n",
        "path = r\"C:\\Users\\제조업통합.xlsx\"\n",
        "df_raw = pd.read_excel(path)\n",
        "\n",
        "# 2. 공변량 선택\n",
        "X = df_raw[['매출액', '부채', '업력', '영업이익', '자본', '자산', '종업원수']].copy()\n",
        "\n",
        "# 3. 결측치 제거 - X와 df 모두 동일한 행만 남기기\n",
        "X = X.dropna()\n",
        "df = df_raw.loc[X.index].reset_index(drop=True)\n",
        "X = X.reset_index(drop=True)\n",
        "\n",
        "# 4. 처리여부 벡터\n",
        "treated = df['공시참여'].reset_index(drop=True)\n",
        "\n",
        "# 5. 성향 점수 계산\n",
        "scaler = StandardScaler()\n",
        "X_scaled = scaler.fit_transform(X)\n",
        "\n",
        "logit = LogisticRegression()\n",
        "logit.fit(X_scaled, treated)\n",
        "propensity_scores = logit.predict_proba(X_scaled)[:, 1]\n",
        "df['pscore'] = propensity_scores\n",
        "\n",
        "# 6. 처리군/대조군 분리\n",
        "treated_df = df[treated == 1].copy()\n",
        "control_df = df[treated == 0].copy()\n",
        "\n",
        "# 7. MatchIt 방식 1:1 매칭 (중복 없음)\n",
        "matched_pairs = []\n",
        "used_controls = set()\n",
        "\n",
        "for idx, row in treated_df.iterrows():\n",
        "    t_score = row['pscore']\n",
        "    available_controls = control_df[~control_df.index.isin(used_controls)]\n",
        "    if available_controls.empty:\n",
        "        break\n",
        "    distances = (available_controls['pscore'] - t_score).abs()\n",
        "    best_match_idx = distances.idxmin()\n",
        "    matched_pairs.append((idx, best_match_idx))\n",
        "    used_controls.add(best_match_idx)\n",
        "\n",
        "# 8. 매칭 결과 정리\n",
        "matched_treated_idx = [i for i, _ in matched_pairs]\n",
        "matched_control_idx = [j for _, j in matched_pairs]\n",
        "\n",
        "matched_df = treated_df.loc[matched_treated_idx].copy()\n",
        "matched_df['matched_id'] = matched_control_idx\n",
        "matched_df['matched_company'] = df.loc[matched_control_idx, '회사명'].values\n",
        "matched_df['matched_score'] = df.loc[matched_control_idx, 'pscore'].values\n",
        "\n",
        "# 9. 결과 저장 (경로 수정 완료)\n",
        "save_path = r\"C:\\Users\\matched_psm_result.csv\"\n",
        "matched_df.to_csv(save_path, index=False, encoding='cp949')\n"
      ]
    }
  ]
}